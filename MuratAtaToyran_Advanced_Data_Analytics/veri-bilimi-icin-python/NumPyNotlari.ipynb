{
 "cells": [
  {
   "cell_type": "code",
   "execution_count": null,
   "id": "a2e0edf4",
   "metadata": {},
   "outputs": [],
   "source": [
    "# A library is a corpus of reusable code modules and their accompanying documentation. Libraries are bundled into packages that\n",
    "# you install, which can then be imported into your coding environment as needed. You’ll typically encounter the terms “library” \n",
    "# and “package” used interchangeably. Generally, this certificate program will refer to both as libraries, but it’s important to \n",
    "# be acquainted with both terms.\n",
    "\n",
    "# Modules are similar to libraries, in that they are groups of related classes and functions, but they are generally \n",
    "# subcomponents of libraries. In other words, a library can have many different modules, and you can choose to import the entire\n",
    "# library or just the module you need. \n",
    "\n",
    "# NumPy arrays are mutable. However, array cannot be lengthened or shortened."
   ]
  },
  {
   "cell_type": "code",
   "execution_count": 1,
   "id": "5296779a",
   "metadata": {},
   "outputs": [
    {
     "ename": "TypeError",
     "evalue": "can't multiply sequence by non-int of type 'list'",
     "output_type": "error",
     "traceback": [
      "\u001b[1;31m---------------------------------------------------------------------------\u001b[0m",
      "\u001b[1;31mTypeError\u001b[0m                                 Traceback (most recent call last)",
      "\u001b[1;32m<ipython-input-1-8b409bb27639>\u001b[0m in \u001b[0;36m<module>\u001b[1;34m\u001b[0m\n\u001b[0;32m      2\u001b[0m \u001b[0mlist2\u001b[0m\u001b[1;33m=\u001b[0m\u001b[1;33m[\u001b[0m\u001b[1;36m4\u001b[0m\u001b[1;33m,\u001b[0m\u001b[1;36m5\u001b[0m\u001b[1;33m,\u001b[0m\u001b[1;36m6\u001b[0m\u001b[1;33m]\u001b[0m\u001b[1;33m\u001b[0m\u001b[1;33m\u001b[0m\u001b[0m\n\u001b[0;32m      3\u001b[0m \u001b[1;33m\u001b[0m\u001b[0m\n\u001b[1;32m----> 4\u001b[1;33m \u001b[0mlist1\u001b[0m \u001b[1;33m*\u001b[0m \u001b[0mlist2\u001b[0m\u001b[1;33m\u001b[0m\u001b[1;33m\u001b[0m\u001b[0m\n\u001b[0m",
      "\u001b[1;31mTypeError\u001b[0m: can't multiply sequence by non-int of type 'list'"
     ]
    }
   ],
   "source": [
    "list1=[1,2,3]\n",
    "list2=[4,5,6]\n",
    "\n",
    "list1 * list2"
   ]
  },
  {
   "cell_type": "code",
   "execution_count": 2,
   "id": "6ceb0c15",
   "metadata": {
    "scrolled": true
   },
   "outputs": [
    {
     "data": {
      "text/plain": [
       "array([ 4, 10, 18])"
      ]
     },
     "execution_count": 2,
     "metadata": {},
     "output_type": "execute_result"
    }
   ],
   "source": [
    "import numpy as np\n",
    "\n",
    "array1=np.array(list1)\n",
    "array2=np.array(list2)\n",
    "\n",
    "array1 * array2"
   ]
  },
  {
   "cell_type": "code",
   "execution_count": 5,
   "id": "dad6af43",
   "metadata": {},
   "outputs": [
    {
     "data": {
      "text/plain": [
       "array([ 4, 10, 18])"
      ]
     },
     "execution_count": 5,
     "metadata": {},
     "output_type": "execute_result"
    }
   ],
   "source": [
    "from numpy import array\n",
    "\n",
    "array1=array(list1)\n",
    "array2=array(list2)\n",
    "\n",
    "array1 * array2"
   ]
  },
  {
   "cell_type": "code",
   "execution_count": 11,
   "id": "3e64d138",
   "metadata": {},
   "outputs": [
    {
     "data": {
      "text/plain": [
       "array(['1', '2', 'coconut'], dtype='<U21')"
      ]
     },
     "execution_count": 11,
     "metadata": {},
     "output_type": "execute_result"
    }
   ],
   "source": [
    "arr = array([1, 2, \"coconut\"])\n",
    "arr                   # arrayler tüm değişkenleri aynı veri tipinde olmaya zorlar, 1 ve 2 de string bu yüzden."
   ]
  },
  {
   "cell_type": "code",
   "execution_count": 12,
   "id": "99cc48d3",
   "metadata": {},
   "outputs": [
    {
     "data": {
      "text/plain": [
       "dtype('int64')"
      ]
     },
     "execution_count": 12,
     "metadata": {},
     "output_type": "execute_result"
    }
   ],
   "source": [
    "arr = array([1, 2, 3])\n",
    "arr.dtype"
   ]
  },
  {
   "cell_type": "code",
   "execution_count": 38,
   "id": "ff936619",
   "metadata": {},
   "outputs": [
    {
     "name": "stdout",
     "output_type": "stream",
     "text": [
      "Matrix shape: (4, 2)\n",
      "Matrix dimension: 2\n",
      "Matrix size: 8\n",
      "Matrix transpoze: [[1 3 5 7]\n",
      " [2 4 6 8]]\n"
     ]
    },
    {
     "data": {
      "text/plain": [
       "array([[1, 2],\n",
       "       [3, 4],\n",
       "       [5, 6],\n",
       "       [7, 8]])"
      ]
     },
     "execution_count": 38,
     "metadata": {},
     "output_type": "execute_result"
    }
   ],
   "source": [
    "array2d = array([[1, 2], [3, 4], [5, 6], [7, 8]])\n",
    "\n",
    "print(\"Matrix shape: {}\".format(array2d.shape))\n",
    "print(\"Matrix dimension: {}\".format(array2d.ndim))\n",
    "print(\"Matrix size: {}\".format(array2d.size))\n",
    "print(\"Matrix transpoze: {}\".format(array2d.T))\n",
    "\n",
    "array2d"
   ]
  },
  {
   "cell_type": "code",
   "execution_count": 31,
   "id": "2ea2432c",
   "metadata": {},
   "outputs": [
    {
     "name": "stdout",
     "output_type": "stream",
     "text": [
      "[[1]\n",
      " [2]\n",
      " [3]\n",
      " [4]\n",
      " [5]\n",
      " [6]\n",
      " [7]\n",
      " [8]]\n"
     ]
    },
    {
     "data": {
      "text/plain": [
       "array([[1, 2],\n",
       "       [3, 4],\n",
       "       [5, 6],\n",
       "       [7, 8]])"
      ]
     },
     "execution_count": 31,
     "metadata": {},
     "output_type": "execute_result"
    }
   ],
   "source": [
    "array2d = array2d.reshape(8, 1)\n",
    "print(array2d)\n",
    "\n",
    "array2d = array2d.reshape(4, -1)\n",
    "array2d"
   ]
  },
  {
   "cell_type": "code",
   "execution_count": 22,
   "id": "cb404b33",
   "metadata": {},
   "outputs": [
    {
     "name": "stdout",
     "output_type": "stream",
     "text": [
      "(2, 2, 3)\n",
      "3\n"
     ]
    },
    {
     "data": {
      "text/plain": [
       "array([[[1, 2, 3],\n",
       "        [3, 4, 5]],\n",
       "\n",
       "       [[5, 6, 7],\n",
       "        [7, 8, 9]]])"
      ]
     },
     "execution_count": 22,
     "metadata": {},
     "output_type": "execute_result"
    }
   ],
   "source": [
    "arr_3d = np.array([[[1, 2, 3],\n",
    "                    [3, 4, 5]],\n",
    "\n",
    "                   [[5, 6, 7],\n",
    "                    [7, 8, 9]]])\n",
    "\n",
    "print(arr_3d. shape) \n",
    "print(arr_3d.ndim)\n",
    "arr_3d"
   ]
  },
  {
   "cell_type": "code",
   "execution_count": 27,
   "id": "1341639c",
   "metadata": {},
   "outputs": [
    {
     "name": "stdout",
     "output_type": "stream",
     "text": [
      "[[0. 0.]\n",
      " [0. 0.]\n",
      " [0. 0.]]\n",
      "\n",
      "\n",
      "[[1. 1.]\n",
      " [1. 1.]]\n",
      "\n",
      "\n",
      "[[8 8 8]\n",
      " [8 8 8]\n",
      " [8 8 8]\n",
      " [8 8 8]\n",
      " [8 8 8]]\n"
     ]
    }
   ],
   "source": [
    "x = np.zeros((3, 2))\n",
    "y = np.ones((2, 2))\n",
    "z = np.full((5, 3), 8)\n",
    "\n",
    "print(x)\n",
    "print(\"\\n\")\n",
    "print(y)\n",
    "print(\"\\n\")\n",
    "print(z)"
   ]
  },
  {
   "cell_type": "code",
   "execution_count": 28,
   "id": "2f8a4970",
   "metadata": {},
   "outputs": [
    {
     "name": "stdout",
     "output_type": "stream",
     "text": [
      "[[1 2 3]\n",
      " [4 5 6]]\n",
      "\n"
     ]
    },
    {
     "data": {
      "text/plain": [
       "array([1, 2, 3, 4, 5, 6])"
      ]
     },
     "execution_count": 28,
     "metadata": {},
     "output_type": "execute_result"
    }
   ],
   "source": [
    "array_2d = np.array([(1, 2, 3), (4, 5, 6)])\n",
    "print(array_2d)\n",
    "print()\n",
    "array_2d.flatten()"
   ]
  },
  {
   "cell_type": "code",
   "execution_count": 29,
   "id": "b28ef535",
   "metadata": {},
   "outputs": [
    {
     "name": "stdout",
     "output_type": "stream",
     "text": [
      "[[1 2 3]\n",
      " [4 5 6]]\n",
      "\n"
     ]
    },
    {
     "data": {
      "text/plain": [
       "[[1, 2, 3], [4, 5, 6]]"
      ]
     },
     "execution_count": 29,
     "metadata": {},
     "output_type": "execute_result"
    }
   ],
   "source": [
    "array_2d = np.array([(1, 2, 3), (4, 5, 6)])\n",
    "print(array_2d)\n",
    "print()\n",
    "array_2d.tolist()"
   ]
  },
  {
   "cell_type": "code",
   "execution_count": 43,
   "id": "c227ee65",
   "metadata": {},
   "outputs": [
    {
     "name": "stdout",
     "output_type": "stream",
     "text": [
      "[[1 2 3]\n",
      " [4 5 6]]\n",
      "\n",
      "[4 5 6]\n",
      "2\n",
      "6\n"
     ]
    },
    {
     "data": {
      "text/plain": [
       "array([[2, 3],\n",
       "       [5, 6]])"
      ]
     },
     "execution_count": 43,
     "metadata": {},
     "output_type": "execute_result"
    }
   ],
   "source": [
    "a = np.array([(1, 2, 3), (4, 5, 6)])\n",
    "print(a)\n",
    "print()\n",
    "\n",
    "print(a[1])\n",
    "print(a[0, 1])\n",
    "print(a[1, 2])\n",
    "a[:, 1:]"
   ]
  },
  {
   "cell_type": "code",
   "execution_count": null,
   "id": "e584646f",
   "metadata": {},
   "outputs": [],
   "source": [
    "new_team = {}\n",
    "for name, age, position in team:\n",
    "    if position in new team:\n",
    "        new team[position].append((name, age)) \n",
    "    else:\n",
    "        new team[position] = [(name, age)]\n",
    "\n",
    "new team             # Dictionary olabilir, yeniden bak"
   ]
  }
 ],
 "metadata": {
  "kernelspec": {
   "display_name": "Python 3",
   "language": "python",
   "name": "python3"
  },
  "language_info": {
   "codemirror_mode": {
    "name": "ipython",
    "version": 3
   },
   "file_extension": ".py",
   "mimetype": "text/x-python",
   "name": "python",
   "nbconvert_exporter": "python",
   "pygments_lexer": "ipython3",
   "version": "3.9.5"
  }
 },
 "nbformat": 4,
 "nbformat_minor": 5
}
